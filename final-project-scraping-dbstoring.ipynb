{
 "cells": [
  {
   "cell_type": "code",
   "execution_count": 1,
   "metadata": {},
   "outputs": [],
   "source": [
    "from selenium import webdriver\n",
    "import requests\n",
    "import json\n",
    "from bs4 import BeautifulSoup\n",
    "import time\n",
    "import sys\n",
    "import pandas as pd\n",
    "import numpy as np"
   ]
  },
  {
   "cell_type": "code",
   "execution_count": 2,
   "metadata": {},
   "outputs": [],
   "source": [
    "BASE_URL = 'https://soundcloud.com'\n",
    "CACHE_FILENAME = 'sc_cache.json'\n",
    "CACHE_DICT = {}"
   ]
  },
  {
   "cell_type": "code",
   "execution_count": 3,
   "metadata": {},
   "outputs": [],
   "source": [
    "def open_cache():\n",
    "    ''' Opens the cache file if it exists and loads the JSON into\n",
    "    the CACHE_DICT dictionary.\n",
    "    if the cache file doesn't exist, creates a new cache dictionary\n",
    "\n",
    "    Parameters\n",
    "    ----------\n",
    "    None\n",
    "\n",
    "    Returns\n",
    "    -------\n",
    "    The opened cache: dict\n",
    "    '''\n",
    "    try:\n",
    "        cache_file = open(CACHE_FILENAME, 'r')\n",
    "        cache_contents = cache_file.read()\n",
    "        cache_dict = json.loads(cache_contents)\n",
    "        cache_file.close()\n",
    "    except:\n",
    "        cache_dict = {}\n",
    "\n",
    "    return cache_dict"
   ]
  },
  {
   "cell_type": "code",
   "execution_count": 4,
   "metadata": {},
   "outputs": [],
   "source": [
    "def save_cache(cache_dict):\n",
    "    ''' Saves the current state of the cache to disk\n",
    "\n",
    "    Parameters\n",
    "    ----------\n",
    "    cache_dict: dict\n",
    "        The dictionary to save\n",
    "\n",
    "    Returns\n",
    "    -------\n",
    "    None\n",
    "    '''\n",
    "    dumped_json_cache = json.dumps(cache_dict, indent=2)\n",
    "    fw = open(CACHE_FILENAME,\"w\")\n",
    "    fw.write(dumped_json_cache)\n",
    "    fw.close()"
   ]
  },
  {
   "cell_type": "code",
   "execution_count": 5,
   "metadata": {},
   "outputs": [],
   "source": [
    "def cache_page_with_genres(url):\n",
    "\n",
    "    CACHE_DICT = open_cache()\n",
    "    if url in CACHE_DICT.keys():\n",
    "        print(\"Using Cache\")\n",
    "        return CACHE_DICT[url]\n",
    "\n",
    "    else:\n",
    "        print(\"Fetching\")\n",
    "        browser = webdriver.Chrome(\"/Users/michael/Downloads/chromedriver\")\n",
    "        browser.get(url)\n",
    "        time.sleep(3)\n",
    "        xpath = '/html/body/div[1]/div[2]/div[2]/div/div/div[1]/div[2]/div/div[2]/div[4]/button'\n",
    "        browser.find_element_by_xpath(xpath).click()\n",
    "        time.sleep(3)\n",
    "        browser.execute_script(\"window.scrollTo(0, document.body.scrollHeight);\")\n",
    "        time.sleep(3)\n",
    "        browser.execute_script(\"window.scrollTo(0, document.body.scrollHeight);\")\n",
    "        time.sleep(3)\n",
    "\n",
    "        page_source = browser.page_source\n",
    "        CACHE_DICT[url] = page_source\n",
    "        save_cache(CACHE_DICT)\n",
    "        browser.close()\n",
    "        return CACHE_DICT[url]"
   ]
  },
  {
   "cell_type": "code",
   "execution_count": 6,
   "metadata": {},
   "outputs": [],
   "source": [
    "def get_tracks_for_genre(bsObj):\n",
    "    all_tracks = {}\n",
    "    reggae_source = bsObj\n",
    "    all_titles = reggae_source.find_all('li', class_=\"chartTracks__item\")\n",
    "\n",
    "    for i, track in enumerate(all_titles):\n",
    "        details = track.find('div', class_='chartTrack__details')\n",
    "        \n",
    "        try:\n",
    "            track_title = details.find('div', class_='chartTrack__title').text.strip()\n",
    "        except:\n",
    "            try: \n",
    "                track_title = details.find('div', class_='chartTrack__blockedTitle').text.strip()\n",
    "            except:\n",
    "                track_title = np.NaN\n",
    "\n",
    "        try:\n",
    "            end_url = details.find('div', class_='chartTrack__title').find('a')['href']\n",
    "            track_url = BASE_URL + end_url\n",
    "        except:\n",
    "            track_url = np.NaN\n",
    "\n",
    "        track_artist = details.find('div', class_='chartTrack__username').text.strip()\n",
    "        artist_url_end = details.find('div', class_='chartTrack__username').find('a')['href']\n",
    "        artist_url_full = 'https://soundcloud.com' + artist_url_end\n",
    "        \n",
    "        \n",
    "        all_plays = track.find(\n",
    "            'div', class_='chartTrack__score').find(\n",
    "                'div', class_='sc-ministats')\n",
    "\n",
    "        try:\n",
    "            track_views_week = all_plays.find(\n",
    "                'span', class_='chartTrack__scoreWeekPlays').find(\n",
    "                    'span', class_='sc-visuallyhidden').text\n",
    "        except:\n",
    "            track_views_week = np.NaN\n",
    "\n",
    "        try:\n",
    "            track_views_all = all_plays.find(\n",
    "                'span', class_='chartTrack__scoreAllPlays').find(\n",
    "                    'span', class_='sc-visuallyhidden').text\n",
    "        except:\n",
    "            track_views_all = np.NaN\n",
    "\n",
    "        all_tracks[i+1] = {\n",
    "            'title': track_title,\n",
    "            'url': track_url,\n",
    "            'artist': track_artist,\n",
    "            'weekly_views': track_views_week,\n",
    "            'all_views': track_views_all,\n",
    "            'artist_url': artist_url_full\n",
    "        }\n",
    "\n",
    "    return all_tracks"
   ]
  },
  {
   "cell_type": "code",
   "execution_count": 7,
   "metadata": {},
   "outputs": [],
   "source": [
    "def build_genre_url_dict():\n",
    "    genre_dict = {}\n",
    "    url = 'https://soundcloud.com/charts/top?genre=reggae&country=US'\n",
    "    reggae_source = BeautifulSoup(cache_page_with_genres(url), 'html.parser')\n",
    "\n",
    "    all_genres = reggae_source.find_all('a', class_=\"linkMenu__link\")\n",
    "    for genre in all_genres:\n",
    "        if (genre.text == 'All music genres') or (genre.text == 'All audio genres'):\n",
    "            continue\n",
    "        else:\n",
    "            genre_dict[genre.text] = BASE_URL + genre['href']\n",
    "\n",
    "    return genre_dict"
   ]
  },
  {
   "cell_type": "markdown",
   "metadata": {},
   "source": [
    "# Scrape All Genre Data"
   ]
  },
  {
   "cell_type": "markdown",
   "metadata": {},
   "source": [
    "## Process Flow (Based on Previously Created Functions)\n",
    "1. Build dictionary that stores each genre and its respective URL for top 50 tracks. If the data exists, the cache will be used; else, it will build URLs using one genre page.\n",
    "2. Create blank df that will hold data for top tracks in each music or audio genre. Each song has the following attributes: (1) genre, (2) title, (3) url, (4) artist, (5) weekly_views, (6) all_views (all-time views). Note that artist may not necessarily be artist but rather is the Soundcloud user that uploaded the media.\n",
    "3. For each genre, get the top 50 tracks and relevant attributes. If the HTML for the genre page exists in the cache, it will use the cache; else, it will use Selenium to open a browser and save the page source (this will take ~5 minutes with no cache).\n",
    "4. Concatenate results to make one large dataframe with all the tracks from all genres and their attributes\n",
    "5. Cast float datatypes as floats\n",
    "6. Write output dataframe to csv for further use in database"
   ]
  },
  {
   "cell_type": "code",
   "execution_count": 9,
   "metadata": {},
   "outputs": [
    {
     "name": "stdout",
     "output_type": "stream",
     "text": [
      "Using Cache\n"
     ]
    }
   ],
   "source": [
    "genre_dict = build_genre_url_dict()"
   ]
  },
  {
   "cell_type": "code",
   "execution_count": null,
   "metadata": {},
   "outputs": [],
   "source": [
    "final_df = pd.DataFrame(\n",
    "    columns=['genre', 'title', 'url', \n",
    "             'artist', 'weekly_views', 'all_views'])\n",
    "\n",
    "for genre_name, genre_link in genre_dict.items():\n",
    "    genre_source = BeautifulSoup(cache_page_with_genres(url=genre_link), 'html.parser')\n",
    "    genre_tracks = get_tracks_for_genre(genre_source)\n",
    "    \n",
    "    genre_df = pd.DataFrame.from_dict(genre_tracks, orient='index')\n",
    "    genre_df['genre'] = genre_name\n",
    "    \n",
    "    genre_top_10 = genre_df[0:10]\n",
    "    final_df = pd.concat([final_df, genre_top_10], axis=0)"
   ]
  },
  {
   "cell_type": "code",
   "execution_count": null,
   "metadata": {},
   "outputs": [],
   "source": [
    "expected_length = 10*len(genre_dict.keys())\n",
    "actual_length = len(final_df)\n",
    "print(f\"Expected records: {expected_length}\")\n",
    "print(f\"Actual records: {actual_length}\")"
   ]
  },
  {
   "cell_type": "code",
   "execution_count": null,
   "metadata": {},
   "outputs": [],
   "source": [
    "final_df = final_df.astype({\n",
    "    'weekly_views': 'float',\n",
    "    'all_views': 'float'\n",
    "})"
   ]
  },
  {
   "cell_type": "code",
   "execution_count": null,
   "metadata": {},
   "outputs": [],
   "source": [
    "# final_df['genre-title'] = final_df['genre'] + ':' + final_df['title']"
   ]
  },
  {
   "cell_type": "code",
   "execution_count": null,
   "metadata": {},
   "outputs": [],
   "source": [
    "final_df = final_df.reset_index()"
   ]
  },
  {
   "cell_type": "code",
   "execution_count": null,
   "metadata": {},
   "outputs": [],
   "source": [
    "final_df.head()"
   ]
  },
  {
   "cell_type": "code",
   "execution_count": null,
   "metadata": {},
   "outputs": [],
   "source": [
    "final_df.to_csv('soundcloud_tracks.csv')"
   ]
  },
  {
   "cell_type": "markdown",
   "metadata": {},
   "source": [
    "# Scraping Data for each Artist "
   ]
  },
  {
   "cell_type": "code",
   "execution_count": null,
   "metadata": {},
   "outputs": [],
   "source": [
    "all_artist_urls = list(final_df['artist_url'])"
   ]
  },
  {
   "cell_type": "code",
   "execution_count": null,
   "metadata": {},
   "outputs": [],
   "source": [
    "def cache_artist_page(artist_url):\n",
    "\n",
    "    url = artist_url + '/popular-tracks'\n",
    "    CACHE_DICT = open_cache()\n",
    "    if url in CACHE_DICT.keys():\n",
    "        print(\"Using Cache\")\n",
    "        return CACHE_DICT[url]\n",
    "\n",
    "    else:\n",
    "        print(\"Fetching\")\n",
    "        browser = webdriver.Chrome(\"/Users/michael/Downloads/chromedriver\")\n",
    "        browser.get(url)\n",
    "        time.sleep(3)\n",
    "\n",
    "        page_source = browser.page_source\n",
    "        CACHE_DICT[url] = page_source\n",
    "        save_cache(CACHE_DICT)\n",
    "        return CACHE_DICT[url]\n",
    "    "
   ]
  },
  {
   "cell_type": "code",
   "execution_count": null,
   "metadata": {},
   "outputs": [],
   "source": [
    "def get_artist_info(artist_url_list):\n",
    "    '''\n",
    "    Parameters\n",
    "    -----------\n",
    "    artist_url: The URL to an artist page. The function uses \n",
    "    cache_artist_page to retrieve the HTML then creates BS \n",
    "    object from HTML text of artist page.\n",
    "    \n",
    "    '''\n",
    "    \n",
    "    all_artists = {}\n",
    "    \n",
    "    for i, artist_url in enumerate(artist_url_list):\n",
    "        \n",
    "        print(artist_url)\n",
    "        \n",
    "        \n",
    "        artist_source = BeautifulSoup(\n",
    "        cache_artist_page(artist_url), 'html.parser')\n",
    "            \n",
    "        try:\n",
    "            artist_name = artist_source.find(\n",
    "            'span', class_='soundTitle__usernameText').text.strip()\n",
    "            \n",
    "            top_track_name = artist_source.find(\n",
    "            'a', class_='soundTitle__title').text.strip()\n",
    "\n",
    "            top_track_views = artist_source.find(\n",
    "            'span', class_='sc-ministats-plays').find(\n",
    "            'span', class_='sc-visuallyhidden').text.strip().split(' ')[0]\n",
    "\n",
    "            all_tables = artist_source.find_all('td')\n",
    "\n",
    "            artist_followers = all_tables[0].find(\n",
    "                'a')['title'].strip().split(' ')[0]\n",
    "\n",
    "            artist_tracks = all_tables[2].find(\n",
    "                'a')['title'].strip().split(' ')[0]\n",
    "\n",
    "\n",
    "            all_artists[i+1] = {\n",
    "                'artist_name': artist_name,\n",
    "                'artist_url': artist_url,\n",
    "                'artist_toptrack': top_track_name,\n",
    "                'artist_toptrack_views': top_track_views,\n",
    "                'artist_followers': artist_followers,\n",
    "                'artist_numtracks': artist_tracks\n",
    "            }\n",
    "        except:\n",
    "            artist_url = artist_url\n",
    "            artist_name = np.NaN\n",
    "            top_track_name = np.NaN\n",
    "            top_track_views = np.NaN\n",
    "            artist_followers = np.NaN\n",
    "            artist_tracks = np.NaN\n",
    "            \n",
    "            all_artists[i+1] = {\n",
    "            'artist_name': artist_name,\n",
    "            'artist_url': artist_url,\n",
    "            'artist_toptrack': top_track_name,\n",
    "            'artist_toptrack_views': top_track_views,\n",
    "            'artist_followers': artist_followers,\n",
    "            'artist_numtracks': artist_tracks}\n",
    "\n",
    "    return all_artists"
   ]
  },
  {
   "cell_type": "code",
   "execution_count": null,
   "metadata": {},
   "outputs": [],
   "source": [
    "test_artist_list = all_artist_urls[0:20]\n",
    "test_artist_list"
   ]
  },
  {
   "cell_type": "code",
   "execution_count": null,
   "metadata": {},
   "outputs": [],
   "source": [
    "all_artist_info = get_artist_info(test_artist_list)"
   ]
  },
  {
   "cell_type": "code",
   "execution_count": null,
   "metadata": {},
   "outputs": [],
   "source": [
    "artist_df = pd.DataFrame.from_dict(all_artist_info, orient='index')\n",
    "artist_df = artist_df.reset_index()"
   ]
  },
  {
   "cell_type": "code",
   "execution_count": null,
   "metadata": {},
   "outputs": [],
   "source": [
    "artist_df = artist_df.drop('index', axis=1)\n",
    "artist_df.head(2)"
   ]
  },
  {
   "cell_type": "code",
   "execution_count": null,
   "metadata": {},
   "outputs": [],
   "source": [
    "final_df = final_df.drop('index', axis=1)\n",
    "final_df.head(2)"
   ]
  },
  {
   "cell_type": "code",
   "execution_count": null,
   "metadata": {},
   "outputs": [],
   "source": [
    "print(final_df.columns)\n",
    "print(\"\")\n",
    "print(artist_df.columns)"
   ]
  },
  {
   "cell_type": "code",
   "execution_count": null,
   "metadata": {},
   "outputs": [],
   "source": [
    "artist_df = artist_df.reset_index()"
   ]
  },
  {
   "cell_type": "code",
   "execution_count": null,
   "metadata": {},
   "outputs": [],
   "source": [
    "artist_df = artist_df.rename(columns={'index': 'id'})"
   ]
  },
  {
   "cell_type": "code",
   "execution_count": null,
   "metadata": {},
   "outputs": [],
   "source": [
    "final_df = final_df.reset_index()"
   ]
  },
  {
   "cell_type": "code",
   "execution_count": null,
   "metadata": {},
   "outputs": [],
   "source": [
    "final_df = final_df.rename(columns={'index': 'id'})"
   ]
  },
  {
   "cell_type": "markdown",
   "metadata": {},
   "source": [
    "# Creating SQLite Database with Python"
   ]
  },
  {
   "cell_type": "markdown",
   "metadata": {},
   "source": [
    "## Create/Connect to SQLite DB and Establish Connection"
   ]
  },
  {
   "cell_type": "code",
   "execution_count": null,
   "metadata": {},
   "outputs": [],
   "source": [
    "import sqlite3"
   ]
  },
  {
   "cell_type": "code",
   "execution_count": null,
   "metadata": {},
   "outputs": [],
   "source": [
    "conn = sqlite3.connect('soundcloud_data.db')"
   ]
  },
  {
   "cell_type": "code",
   "execution_count": null,
   "metadata": {},
   "outputs": [],
   "source": [
    "c = conn.cursor()"
   ]
  },
  {
   "cell_type": "markdown",
   "metadata": {},
   "source": [
    "## Create Tables"
   ]
  },
  {
   "cell_type": "code",
   "execution_count": null,
   "metadata": {},
   "outputs": [],
   "source": [
    "query_artists = '''\n",
    "CREATE TABLE IF NOT EXISTS soundcloud_artists(\n",
    "    id integer,\n",
    "    artist_name text,\n",
    "    artist_url text PRIMARY KEY,\n",
    "    artist_toptrack text,\n",
    "    artist_toptrack_views REAL,\n",
    "    artist_followers REAL,\n",
    "    artist_numtracks REAL)\n",
    "'''"
   ]
  },
  {
   "cell_type": "code",
   "execution_count": null,
   "metadata": {},
   "outputs": [],
   "source": [
    "c.execute(query_artists)"
   ]
  },
  {
   "cell_type": "code",
   "execution_count": null,
   "metadata": {},
   "outputs": [],
   "source": [
    "query_tracks = '''\n",
    "CREATE TABLE IF NOT EXISTS soundcloud_tracks (\n",
    "    id integer PRIMARY KEY,\n",
    "    track_genre text,\n",
    "    track_title text,\n",
    "    track_url text,\n",
    "    track_artist text,\n",
    "    track_views_week REAL,\n",
    "    track_views_all REAL,\n",
    "    track_artist_url text, \n",
    "    FOREIGN KEY (track_artist_url) REFERENCES soundcloud_artists (artist_url)\n",
    ");\n",
    "'''"
   ]
  },
  {
   "cell_type": "code",
   "execution_count": null,
   "metadata": {},
   "outputs": [],
   "source": [
    "c.execute(query_tracks)"
   ]
  },
  {
   "cell_type": "markdown",
   "metadata": {},
   "source": [
    "## Put Dataframes with Scraped Data in SQL DB"
   ]
  },
  {
   "cell_type": "code",
   "execution_count": null,
   "metadata": {},
   "outputs": [],
   "source": [
    "artist_df.to_sql('soundcloud_artists', conn, if_exists='replace', index=False)"
   ]
  },
  {
   "cell_type": "code",
   "execution_count": null,
   "metadata": {},
   "outputs": [],
   "source": [
    "final_df.to_sql('soundcloud_tracks', conn, if_exists='replace', index=False)"
   ]
  },
  {
   "cell_type": "code",
   "execution_count": null,
   "metadata": {},
   "outputs": [],
   "source": [
    "conn.close()"
   ]
  },
  {
   "cell_type": "markdown",
   "metadata": {},
   "source": [
    "# User Interaction"
   ]
  },
  {
   "cell_type": "code",
   "execution_count": null,
   "metadata": {},
   "outputs": [],
   "source": [
    "# user_genre = 'Ambient'\n",
    "# genre_link_complete = None\n",
    "# for genre in genre_dict.keys():\n",
    "#     if user_genre.lower() == genre.lower():\n",
    "#         genre_link_complete = genre_dict[genre]\n",
    "\n",
    "# if genre_link_complete is not None:\n",
    "#     print(genre_link_complete)\n",
    "# else:\n",
    "#     print(\"Please try again and enter a valid genre or exit.\")"
   ]
  }
 ],
 "metadata": {
  "kernelspec": {
   "display_name": "Python 3",
   "language": "python",
   "name": "python3"
  },
  "language_info": {
   "codemirror_mode": {
    "name": "ipython",
    "version": 3
   },
   "file_extension": ".py",
   "mimetype": "text/x-python",
   "name": "python",
   "nbconvert_exporter": "python",
   "pygments_lexer": "ipython3",
   "version": "3.8.2"
  }
 },
 "nbformat": 4,
 "nbformat_minor": 4
}
